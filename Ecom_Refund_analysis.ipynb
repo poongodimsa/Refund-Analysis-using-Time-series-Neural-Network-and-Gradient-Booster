{
  "cells": [
    {
      "cell_type": "markdown",
      "id": "c4043edd",
      "metadata": {
        "id": "c4043edd"
      },
      "source": [
        "# Refund Analysis - Ecom Project - using Time series, Neural Network and Gradient Boosting classifier\n"
      ]
    },
    {
      "cell_type": "markdown",
      "source": [
        "## Data\n",
        "\n"
      ],
      "metadata": {
        "id": "KxjsARt4gd2j"
      },
      "id": "KxjsARt4gd2j"
    },
    {
      "cell_type": "markdown",
      "source": [
        "Columns: id,\tday,\tcurrency,\ttype,\titem_value,\ttax_rate,\tshipping_cost,\ttotal_payment,\tcustomer\n",
        "\n",
        "Customer is a dictionary with the following columns:\n",
        "Cust id, address\n",
        "\n"
      ],
      "metadata": {
        "id": "a62T1usZi663"
      },
      "id": "a62T1usZi663"
    },
    {
      "cell_type": "markdown",
      "source": [
        "## Requirements\n",
        "\n"
      ],
      "metadata": {
        "id": "6ZBup2g8i3wa"
      },
      "id": "6ZBup2g8i3wa"
    },
    {
      "cell_type": "markdown",
      "source": [
        "\n",
        "1. For each order, the total_payment represents the sum of item_value plus shipping_cost plus tax. The tax is a percentage applied to both item_value and shipping_cost. When an order is refunded, the shipping_cost is 0 because shipping is paid for by the user. When refunding, the tax on the item_value is also refunded. Compute the total value (in GBP) of the tax element due to the government for all orders and refunds submitted in GBP currency.\n",
        "\n",
        "\n",
        "2. Compute the repeat rate (the percent of the customers who ordered more than once).\n",
        "\n",
        "3. Compute the total value (in USD) of all item_value of orders, regardless of which currency the order was submitted in, assuming the item_value was converted from the order currency into USD at the time the order was received. Assume day 0 is January 1st, 2019. Do not include refunds in this analysis.\n",
        "\n",
        "4.  The available data  contains information up to day 899. Forecast the number of refunds for the next 3 periods of 30 days.\n",
        "This question requires three numerical answers: number of refunds in days 900-929; number of refunds in days 930-959; number of refunds in days 960-989\n",
        "\n",
        "5. Estimate the refund probability:\n",
        "\n",
        "    a. Order sent from FR, in currency GBP, with item_value=351, tax_rate=0.2, shipping_cost=30.\n",
        "\n",
        "    b. Order sent from US, in currency USD, with item_value=45, tax_rate=0.1, shipping_cost=0.\n",
        "\n",
        "    c. Order sent from US, in currency CHF, with item_value=200, tax_rate=0.15, shipping_cost=0\n",
        "\n",
        "    d. Order sent from FR, in currency EUR, with item_value=1500, tax_rate=0.2, shipping_cost=0.\n",
        "\n",
        "    e. Order sent from AU, in currency EUR, with item_value=750, tax_rate=0.15, shipping_cost=0.\n",
        "\n",
        "    f. Order sent from DE, in currency EUR, with item_value=800, tax_rate=0.1, shipping_cost=20.\n",
        "\n",
        "    g. Order sent from US, in currency CHF, with item_value=2500, tax_rate=0.35, shipping_cost=20.\n",
        "\n",
        "    "
      ],
      "metadata": {
        "id": "kSe2OE9Ziujo"
      },
      "id": "kSe2OE9Ziujo"
    },
    {
      "cell_type": "markdown",
      "source": [
        "## Script"
      ],
      "metadata": {
        "id": "gNBU74mIl1oI"
      },
      "id": "gNBU74mIl1oI"
    },
    {
      "cell_type": "markdown",
      "source": [
        "##### Preprocessing"
      ],
      "metadata": {
        "id": "Ov6rGQi1yEEj"
      },
      "id": "Ov6rGQi1yEEj"
    },
    {
      "cell_type": "code",
      "execution_count": 4,
      "id": "9b29900b",
      "metadata": {
        "id": "9b29900b"
      },
      "outputs": [],
      "source": [
        "#Import libraries\n",
        "import pandas as pd\n",
        "import numpy as np\n",
        "from matplotlib import pyplot as plt\n",
        "from datetime import datetime,timedelta\n",
        "from forex_python.converter import CurrencyRates\n",
        "from statsmodels.tsa.seasonal import seasonal_decompose"
      ]
    },
    {
      "cell_type": "code",
      "execution_count": 7,
      "id": "3d7a07c2",
      "metadata": {
        "colab": {
          "base_uri": "https://localhost:8080/"
        },
        "id": "3d7a07c2",
        "outputId": "d20bae32-eb05-414d-d39d-f86ece1a2507"
      },
      "outputs": [
        {
          "output_type": "stream",
          "name": "stdout",
          "text": [
            "Mounted at /content/gdrive\n"
          ]
        }
      ],
      "source": [
        "#Load input file to a dataset\n",
        "\n",
        "#Mount GDrive\n",
        "from google.colab import drive\n",
        "drive.mount('/content/gdrive')\n",
        "\n",
        "#Set input data file path\n",
        "path = \"/content/gdrive/My Drive/Colab Notebooks/Ecom - Refund analysis/\"\n",
        "\n",
        "\n",
        "ds = pd.read_json(path+\"data.json\")"
      ]
    },
    {
      "cell_type": "code",
      "execution_count": 8,
      "id": "4b75299d",
      "metadata": {
        "colab": {
          "base_uri": "https://localhost:8080/"
        },
        "id": "4b75299d",
        "outputId": "3b317ac9-de72-4259-c33e-ce252061f2bd"
      },
      "outputs": [
        {
          "output_type": "execute_result",
          "data": {
            "text/plain": [
              "Index(['id', 'day', 'currency', 'type', 'item_value', 'tax_rate',\n",
              "       'shipping_cost', 'total_payment', 'customer'],\n",
              "      dtype='object')"
            ]
          },
          "metadata": {},
          "execution_count": 8
        }
      ],
      "source": [
        "ds.columns"
      ]
    },
    {
      "cell_type": "code",
      "execution_count": null,
      "id": "2e2830e0",
      "metadata": {
        "id": "2e2830e0",
        "outputId": "607a6429-d942-4974-e027-39e056e3e6b5"
      },
      "outputs": [
        {
          "data": {
            "text/html": [
              "<div>\n",
              "<style scoped>\n",
              "    .dataframe tbody tr th:only-of-type {\n",
              "        vertical-align: middle;\n",
              "    }\n",
              "\n",
              "    .dataframe tbody tr th {\n",
              "        vertical-align: top;\n",
              "    }\n",
              "\n",
              "    .dataframe thead th {\n",
              "        text-align: right;\n",
              "    }\n",
              "</style>\n",
              "<table border=\"1\" class=\"dataframe\">\n",
              "  <thead>\n",
              "    <tr style=\"text-align: right;\">\n",
              "      <th></th>\n",
              "      <th>id</th>\n",
              "      <th>day</th>\n",
              "      <th>currency</th>\n",
              "      <th>type</th>\n",
              "      <th>item_value</th>\n",
              "      <th>tax_rate</th>\n",
              "      <th>shipping_cost</th>\n",
              "      <th>total_payment</th>\n",
              "      <th>customer</th>\n",
              "    </tr>\n",
              "  </thead>\n",
              "  <tbody>\n",
              "    <tr>\n",
              "      <th>0</th>\n",
              "      <td>1a8dda94-a6f2-4b14-a2d4-0fba2dda9974</td>\n",
              "      <td>0</td>\n",
              "      <td>EUR</td>\n",
              "      <td>ORDER</td>\n",
              "      <td>5300.0</td>\n",
              "      <td>0.19</td>\n",
              "      <td>0</td>\n",
              "      <td>6307.0</td>\n",
              "      <td>{'id': '5a2eadc5-2e11-4b33-b7ea-9c804b013f68',...</td>\n",
              "    </tr>\n",
              "    <tr>\n",
              "      <th>1</th>\n",
              "      <td>ffafaf5d-8c5d-409c-aa84-af5ef8ee203c</td>\n",
              "      <td>0</td>\n",
              "      <td>GBP</td>\n",
              "      <td>ORDER</td>\n",
              "      <td>3130.0</td>\n",
              "      <td>0.10</td>\n",
              "      <td>0</td>\n",
              "      <td>3443.0</td>\n",
              "      <td>{'id': '2eddfaad-046e-49a6-bda8-f6358024feab',...</td>\n",
              "    </tr>\n",
              "  </tbody>\n",
              "</table>\n",
              "</div>"
            ],
            "text/plain": [
              "                                     id  day currency   type  item_value  \\\n",
              "0  1a8dda94-a6f2-4b14-a2d4-0fba2dda9974    0      EUR  ORDER      5300.0   \n",
              "1  ffafaf5d-8c5d-409c-aa84-af5ef8ee203c    0      GBP  ORDER      3130.0   \n",
              "\n",
              "   tax_rate  shipping_cost  total_payment  \\\n",
              "0      0.19              0         6307.0   \n",
              "1      0.10              0         3443.0   \n",
              "\n",
              "                                            customer  \n",
              "0  {'id': '5a2eadc5-2e11-4b33-b7ea-9c804b013f68',...  \n",
              "1  {'id': '2eddfaad-046e-49a6-bda8-f6358024feab',...  "
            ]
          },
          "execution_count": 7,
          "metadata": {},
          "output_type": "execute_result"
        }
      ],
      "source": [
        "ds.head(2)"
      ]
    },
    {
      "cell_type": "code",
      "execution_count": null,
      "id": "0cc45ceb",
      "metadata": {
        "id": "0cc45ceb",
        "outputId": "61fd5569-b362-4258-ff10-c390b2ab5feb"
      },
      "outputs": [
        {
          "name": "stdout",
          "output_type": "stream",
          "text": [
            "['EUR' 'GBP' 'CAD' 'BTC' 'USD' 'ETH' 'CHF']\n"
          ]
        }
      ],
      "source": [
        "print(ds['currency'].unique())"
      ]
    },
    {
      "cell_type": "markdown",
      "id": "259f27cb",
      "metadata": {
        "id": "259f27cb"
      },
      "source": [
        "#### **1. For each order, the total_payment represents the sum of item_value plus shipping_cost plus tax. The tax is a percentage applied to both item_value and shipping_cost. When an order is refunded, the shipping_cost is 0 because shipping is paid for by the user. When refunding, the tax on the item_value is also refunded. Compute the total value (in GBP) of the tax element due to the government for all orders and refunds submitted in GBP currency.**\n"
      ]
    },
    {
      "cell_type": "markdown",
      "source": [
        "\n",
        "\n",
        "\n",
        "Steps:\n",
        "1. Load json to pandas dataset\n",
        "2. Filter 'GBP' currency records to a new dataset\n",
        "3. Add a new tax value column 'tax_value' = ('item_value' * 'tax_rate') + ('shipping_cost' * 'tax_rate') \n",
        "4. Make 'tax_value' negative for REFUND records by multiplying with -1\n",
        "dsgbp[\"tax_value\"] = np.where(dsgbp['type'] == \"REFUND\",dsgbp[\"tax_value\"] *-1, dsgbp[\"tax_value\"]  )\n",
        "\n",
        "5. Sum up the 'tax_value' column for tax due\n",
        "Note: 'GBP' records doesn't have 'REFUND' types. So we may skip step 4!\n",
        "\n"
      ],
      "metadata": {
        "id": "4CE0NZnqyPLH"
      },
      "id": "4CE0NZnqyPLH"
    },
    {
      "cell_type": "code",
      "execution_count": null,
      "id": "204c3d58",
      "metadata": {
        "id": "204c3d58"
      },
      "outputs": [],
      "source": [
        "#Filter GBP currency\n",
        "dsgbp = ds[ds[\"currency\"] == \"GBP\"]"
      ]
    },
    {
      "cell_type": "code",
      "execution_count": null,
      "id": "308de108",
      "metadata": {
        "id": "308de108",
        "outputId": "33e949e4-254d-473b-8a3d-25340777f655"
      },
      "outputs": [
        {
          "data": {
            "text/plain": [
              "(1048, 9)"
            ]
          },
          "execution_count": 8,
          "metadata": {},
          "output_type": "execute_result"
        }
      ],
      "source": [
        "dsgbp.shape"
      ]
    },
    {
      "cell_type": "code",
      "execution_count": null,
      "id": "df0ef6b9",
      "metadata": {
        "id": "df0ef6b9"
      },
      "outputs": [],
      "source": [
        "#calculate tax value. add a new col\n",
        "\n",
        "dsgbp[\"tax_value\"] = (dsgbp[\"item_value\"]*dsgbp['tax_rate']) + (dsgbp[\"shipping_cost\"]*dsgbp['tax_rate'])"
      ]
    },
    {
      "cell_type": "code",
      "execution_count": null,
      "id": "98b987f1",
      "metadata": {
        "id": "98b987f1"
      },
      "outputs": [],
      "source": [
        "#make refund tx negative\n",
        "dsgbp[\"tax_value\"] = np.where(dsgbp['type'] == \"REFUND\",dsgbp[\"tax_value\"] *-1, dsgbp[\"tax_value\"]  )\n"
      ]
    },
    {
      "cell_type": "code",
      "execution_count": null,
      "id": "eb025bf7",
      "metadata": {
        "id": "eb025bf7",
        "outputId": "11a42d46-3e01-4d24-fdbd-c1f45de1bf05"
      },
      "outputs": [
        {
          "data": {
            "text/plain": [
              "739431.3500000001"
            ]
          },
          "execution_count": 11,
          "metadata": {},
          "output_type": "execute_result"
        }
      ],
      "source": [
        "tax_due = dsgbp['tax_value'].sum()\n",
        "tax_due"
      ]
    },
    {
      "cell_type": "markdown",
      "source": [
        "\n",
        "Result : 739431.3500000001\n"
      ],
      "metadata": {
        "id": "EHZ7pmjymiyR"
      },
      "id": "EHZ7pmjymiyR"
    },
    {
      "cell_type": "markdown",
      "source": [],
      "metadata": {
        "id": "rLq5wFEGyNJ6"
      },
      "id": "rLq5wFEGyNJ6"
    },
    {
      "cell_type": "markdown",
      "id": "21b39d91",
      "metadata": {
        "id": "21b39d91"
      },
      "source": [
        "#### **2.** **Compute the repeat rate (the percent of the customers who ordered more than once).**\n"
      ]
    },
    {
      "cell_type": "markdown",
      "source": [
        "\n",
        "Steps:\n",
        "1. With the original dataset, insert a new column 'customerid'\n",
        "2. Extract values to this new column from 'customer' dictionary\n",
        "3. Calculate count of customers who ordered more than once\n",
        "4. Calculate totla number of unique customers\n",
        "5. Repeat rate = Number of repeat purchase customers/total number of customers\n"
      ],
      "metadata": {
        "id": "W2aeAn6fySpN"
      },
      "id": "W2aeAn6fySpN"
    },
    {
      "cell_type": "code",
      "execution_count": null,
      "id": "2d138e93",
      "metadata": {
        "id": "2d138e93"
      },
      "outputs": [],
      "source": [
        "#number of repeat purchase customers\n",
        "ds1=ds.copy()\n",
        "ds1.insert(1,'customerid','')\n",
        "#create custid column\n",
        "for i in range(len(ds1)):\n",
        "    ds1['customerid'][i] =ds['customer'][i]['id']\n",
        "    \n",
        "dsr = ds1.groupby('customerid').size()\n",
        "repeatsize = dsr[dsr>1].count()\n"
      ]
    },
    {
      "cell_type": "code",
      "execution_count": null,
      "id": "f3dcb3a1",
      "metadata": {
        "id": "f3dcb3a1"
      },
      "outputs": [],
      "source": [
        "totcust = ds1['customerid'].unique().shape"
      ]
    },
    {
      "cell_type": "code",
      "execution_count": null,
      "id": "b70bdab9",
      "metadata": {
        "id": "b70bdab9",
        "outputId": "aed5fc9e-9807-4c8f-e194-41e25ee40a2a"
      },
      "outputs": [
        {
          "data": {
            "text/plain": [
              "(4521,)"
            ]
          },
          "execution_count": 15,
          "metadata": {},
          "output_type": "execute_result"
        }
      ],
      "source": [
        "totcust"
      ]
    },
    {
      "cell_type": "code",
      "execution_count": null,
      "id": "8a960b08",
      "metadata": {
        "id": "8a960b08",
        "outputId": "ca7f69cb-3c0a-4c30-dce3-4aa2fbed8fb8"
      },
      "outputs": [
        {
          "data": {
            "text/plain": [
              "1646"
            ]
          },
          "execution_count": 16,
          "metadata": {},
          "output_type": "execute_result"
        }
      ],
      "source": [
        "repeatsize"
      ]
    },
    {
      "cell_type": "code",
      "execution_count": null,
      "id": "9c16be2b",
      "metadata": {
        "id": "9c16be2b"
      },
      "outputs": [],
      "source": [
        "rrate = repeatsize/totcust"
      ]
    },
    {
      "cell_type": "code",
      "execution_count": null,
      "id": "97e14778",
      "metadata": {
        "id": "97e14778",
        "outputId": "ee07c3f6-e5de-44de-c0c0-8dcef52e0738"
      },
      "outputs": [
        {
          "data": {
            "text/plain": [
              "array([0.36407874])"
            ]
          },
          "execution_count": 18,
          "metadata": {},
          "output_type": "execute_result"
        }
      ],
      "source": [
        "rrate\n"
      ]
    },
    {
      "cell_type": "markdown",
      "source": [
        "Repeat rate = 0.36407874 or 36.41%"
      ],
      "metadata": {
        "id": "X_2OLLOenMH5"
      },
      "id": "X_2OLLOenMH5"
    },
    {
      "cell_type": "markdown",
      "id": "b3b6c4d6",
      "metadata": {
        "id": "b3b6c4d6"
      },
      "source": [
        "#### **3. Compute the total value (in USD) of all item_value of orders, regardless of which currency the order was submitted in, assuming the item_value was converted from the order currency into USD at the time the order was received. Assume day 0 is January 1st, 2019. Do not include refunds in this analysis.**\n",
        "\n"
      ]
    },
    {
      "cell_type": "markdown",
      "source": [
        "\n",
        "Note: 'ETH' currency rate against USD is not exposed by any free API. So skipped 'ETH' records. The above answer is summed up for all currencies except 'ETH'. \n",
        "\n",
        "External API used:\n",
        " 'https://api.apilayer.com/fixer/timeseries?base={0}&start_date={1}&end_date={2}&symbols={3}'\n",
        "\n",
        "Steps:\n",
        "1. Exclude 'Refund' records\n",
        "2. Above timeseries API is used with base='USD', symbols = 'EUR,GBP,CAD,CHF,BTC,ETH',\n",
        "start_date=\"2019-01-01\" and  end_date = \"2021-06-18\" to get rates\n",
        "3. Currency Conversion Rates are extracted from the API response using json and dataframe\n",
        "4. Conversion Rate is multiplied with item_value to get USD value\n",
        "5. The USD values are summed up to get the result\n"
      ],
      "metadata": {
        "id": "j_qkBriYyX9N"
      },
      "id": "j_qkBriYyX9N"
    },
    {
      "cell_type": "code",
      "execution_count": null,
      "id": "249eae2c",
      "metadata": {
        "id": "249eae2c"
      },
      "outputs": [],
      "source": [
        "#Remove 'Refund' records/\n",
        "ds1=ds[ds['type'] == 'ORDER']\n",
        "ds1.reset_index(inplace=True,drop=True)\n",
        "ds1.insert(0,'usdrate',ds1['item_value'])\n",
        "ds1.insert(0,'rate',1.0)\n"
      ]
    },
    {
      "cell_type": "code",
      "execution_count": null,
      "id": "57b0a26f",
      "metadata": {
        "id": "57b0a26f"
      },
      "outputs": [],
      "source": [
        "\n",
        "#import libraries to handle request to api\n",
        "import requests\n",
        "import json\n",
        "\n",
        "# base currency or reference currency\n",
        "base='USD'\n",
        "\n",
        "# required currency for plot\n",
        "symbols = 'EUR,GBP,CAD,CHF,BTC,ETH'\n",
        "\n",
        "#Get response in batch of three since only api returns a years response at a time\n",
        "\n",
        "start_date=\"2019-01-01\"\n",
        "end_date = \"2020-01-01\"\n",
        "url = 'https://api.apilayer.com/fixer/timeseries?base={0}&start_date={1}&end_date={2}&symbols={3}'.format(base,start_date,end_date,symbols)\n",
        "payload = {}\n",
        "headers= {\n",
        "  \"apikey\": \"vMGHPcDgzaJYRUwuUlO8lRyLKmShq9hc\"\n",
        "}\n",
        "response1 = requests.request(\"GET\", url, headers=headers, data = payload)\n",
        "data1 = response1.json()['rates']\n",
        "\n",
        "\n",
        "start_date=\"2020-01-02\"\n",
        "end_date = \"2021-01-01\"\n",
        "url = 'https://api.apilayer.com/fixer/timeseries?base={0}&start_date={1}&end_date={2}&symbols={3}'.format(base,start_date,end_date,symbols)\n",
        "payload = {}\n",
        "headers= {\n",
        "  \"apikey\": \"vMGHPcDgzaJYRUwuUlO8lRyLKmShq9hc\"\n",
        "}\n",
        "response2 = requests.request(\"GET\", url, headers=headers, data = payload)\n",
        "# retrive response in json format\n",
        "data2 = response2.json()['rates']\n",
        "\n",
        "start_date=\"2021-01-02\"\n",
        "end_date = \"2021-06-19\"\n",
        "url = 'https://api.apilayer.com/fixer/timeseries?base={0}&start_date={1}&end_date={2}&symbols={3}'.format(base,start_date,end_date,symbols)\n",
        "payload = {}\n",
        "headers= {\n",
        "  \"apikey\": \"vMGHPcDgzaJYRUwuUlO8lRyLKmShq9hc\"\n",
        "}\n",
        "response3 = requests.request(\"GET\", url, headers=headers, data = payload)\n",
        "# retrive response in json format\n",
        "data3 = response3.json()['rates']\n",
        "\n",
        "datanew = {}\n",
        "for d in (data1, data2, data3): datanew.update(d)\n",
        "\n"
      ]
    },
    {
      "cell_type": "code",
      "execution_count": null,
      "id": "acdcabda",
      "metadata": {
        "id": "acdcabda"
      },
      "outputs": [],
      "source": [
        "from pandas import json_normalize \n",
        "dfnew = json_normalize(datanew)"
      ]
    },
    {
      "cell_type": "code",
      "execution_count": null,
      "id": "f2f9e135",
      "metadata": {
        "id": "f2f9e135"
      },
      "outputs": [],
      "source": [
        "dfnew1 = dfnew.copy()\n",
        "for col in dfnew.columns:\n",
        "    dfnew1[col] = 1/dfnew1[col] "
      ]
    },
    {
      "cell_type": "code",
      "execution_count": null,
      "id": "053adf7e",
      "metadata": {
        "id": "053adf7e",
        "outputId": "d17bcae6-c0d3-47f5-bbf3-be491d054ed6"
      },
      "outputs": [
        {
          "data": {
            "text/html": [
              "<div>\n",
              "<style scoped>\n",
              "    .dataframe tbody tr th:only-of-type {\n",
              "        vertical-align: middle;\n",
              "    }\n",
              "\n",
              "    .dataframe tbody tr th {\n",
              "        vertical-align: top;\n",
              "    }\n",
              "\n",
              "    .dataframe thead th {\n",
              "        text-align: right;\n",
              "    }\n",
              "</style>\n",
              "<table border=\"1\" class=\"dataframe\">\n",
              "  <thead>\n",
              "    <tr style=\"text-align: right;\">\n",
              "      <th></th>\n",
              "      <th>2019-01-01.EUR</th>\n",
              "      <th>2019-01-01.GBP</th>\n",
              "      <th>2019-01-01.CAD</th>\n",
              "      <th>2019-01-01.CHF</th>\n",
              "      <th>2019-01-01.BTC</th>\n",
              "      <th>2019-01-02.EUR</th>\n",
              "      <th>2019-01-02.GBP</th>\n",
              "      <th>2019-01-02.CAD</th>\n",
              "      <th>2019-01-02.CHF</th>\n",
              "      <th>2019-01-02.BTC</th>\n",
              "      <th>...</th>\n",
              "      <th>2021-06-18.EUR</th>\n",
              "      <th>2021-06-18.GBP</th>\n",
              "      <th>2021-06-18.CAD</th>\n",
              "      <th>2021-06-18.CHF</th>\n",
              "      <th>2021-06-18.BTC</th>\n",
              "      <th>2021-06-19.EUR</th>\n",
              "      <th>2021-06-19.GBP</th>\n",
              "      <th>2021-06-19.CAD</th>\n",
              "      <th>2021-06-19.CHF</th>\n",
              "      <th>2021-06-19.BTC</th>\n",
              "    </tr>\n",
              "  </thead>\n",
              "  <tbody>\n",
              "    <tr>\n",
              "      <th>0</th>\n",
              "      <td>1.146125</td>\n",
              "      <td>1.275348</td>\n",
              "      <td>0.733872</td>\n",
              "      <td>1.018123</td>\n",
              "      <td>3846.153846</td>\n",
              "      <td>1.131753</td>\n",
              "      <td>1.252039</td>\n",
              "      <td>0.733533</td>\n",
              "      <td>1.011276</td>\n",
              "      <td>3921.568627</td>\n",
              "      <td>...</td>\n",
              "      <td>1.186349</td>\n",
              "      <td>1.381151</td>\n",
              "      <td>0.80204</td>\n",
              "      <td>1.083365</td>\n",
              "      <td>35766.360257</td>\n",
              "      <td>1.186435</td>\n",
              "      <td>1.381151</td>\n",
              "      <td>0.80204</td>\n",
              "      <td>1.083365</td>\n",
              "      <td>35593.523246</td>\n",
              "    </tr>\n",
              "  </tbody>\n",
              "</table>\n",
              "<p>1 rows × 4505 columns</p>\n",
              "</div>"
            ],
            "text/plain": [
              "   2019-01-01.EUR  2019-01-01.GBP  2019-01-01.CAD  2019-01-01.CHF  \\\n",
              "0        1.146125        1.275348        0.733872        1.018123   \n",
              "\n",
              "   2019-01-01.BTC  2019-01-02.EUR  2019-01-02.GBP  2019-01-02.CAD  \\\n",
              "0     3846.153846        1.131753        1.252039        0.733533   \n",
              "\n",
              "   2019-01-02.CHF  2019-01-02.BTC  ...  2021-06-18.EUR  2021-06-18.GBP  \\\n",
              "0        1.011276     3921.568627  ...        1.186349        1.381151   \n",
              "\n",
              "   2021-06-18.CAD  2021-06-18.CHF  2021-06-18.BTC  2021-06-19.EUR  \\\n",
              "0         0.80204        1.083365    35766.360257        1.186435   \n",
              "\n",
              "   2021-06-19.GBP  2021-06-19.CAD  2021-06-19.CHF  2021-06-19.BTC  \n",
              "0        1.381151         0.80204        1.083365    35593.523246  \n",
              "\n",
              "[1 rows x 4505 columns]"
            ]
          },
          "execution_count": 133,
          "metadata": {},
          "output_type": "execute_result"
        }
      ],
      "source": [
        "dfnew1"
      ]
    },
    {
      "cell_type": "code",
      "execution_count": null,
      "id": "e5b8015e",
      "metadata": {
        "id": "e5b8015e",
        "outputId": "7e2cad29-f0cf-4ce2-f945-0799d44ea7bd"
      },
      "outputs": [
        {
          "data": {
            "text/plain": [
              "(5652, 11)"
            ]
          },
          "execution_count": 134,
          "metadata": {},
          "output_type": "execute_result"
        }
      ],
      "source": [
        "ds2=ds1.copy()\n",
        "ds1 = ds1[ds1['currency'] !='ETH']\n",
        "ds1.reset_index(inplace=True,drop=True)\n",
        "ds1.shape"
      ]
    },
    {
      "cell_type": "code",
      "execution_count": null,
      "id": "ab3ec978",
      "metadata": {
        "id": "ab3ec978"
      },
      "outputs": [],
      "source": [
        "dtzero = '2019-01-01'\n",
        "dtzero=datetime.strptime(dtzero, '%Y-%m-%d')\n",
        "#dt = pd.to_datetime(dt, format='%Y-%m-%d')\n",
        "\n",
        "for i in range(len(ds1)):\n",
        "    if ds1['currency'][i] != 'USD':\n",
        "        dt =  dtzero+timedelta(days = int(ds1['day'][i]) )\n",
        "        dt = datetime.strftime(dt, '%Y-%m-%d')\n",
        "        col = dt + '.' + str(ds1['currency'][i])\n",
        "        rate = dfnew1[col]\n",
        "        #rate = (dnew[ds1['day'][i] == dnew['day'] & ds1['currency'][i]==  dnew['currency']]).rate\n",
        "        ds1['usdrate'][i] = rate * ds1['item_value'][i]\n",
        "        ds1['rate'][i]=rate"
      ]
    },
    {
      "cell_type": "code",
      "execution_count": null,
      "id": "b2f8acbc",
      "metadata": {
        "id": "b2f8acbc",
        "outputId": "9bf51a2d-4448-4fa3-fb7a-f2d60fae2988"
      },
      "outputs": [
        {
          "data": {
            "text/plain": [
              "28582197.514796976"
            ]
          },
          "execution_count": 136,
          "metadata": {},
          "output_type": "execute_result"
        }
      ],
      "source": [
        "ds1['usdrate'].sum()"
      ]
    },
    {
      "cell_type": "markdown",
      "source": [
        "Result : 28582197.51 USD + ETH values\n"
      ],
      "metadata": {
        "id": "JCVZidaAtwZt"
      },
      "id": "JCVZidaAtwZt"
    },
    {
      "cell_type": "code",
      "execution_count": null,
      "id": "1f203b9e",
      "metadata": {
        "id": "1f203b9e"
      },
      "outputs": [],
      "source": [
        "import warnings                   # To ignore the warnings\n",
        "warnings.filterwarnings(\"ignore\")"
      ]
    },
    {
      "cell_type": "markdown",
      "id": "1494368b",
      "metadata": {
        "id": "1494368b"
      },
      "source": [
        "#### **4. The data provided contains information up to day 899. Forecast the number of refunds for the next 3 periods of 30 days**.\n",
        "\n"
      ]
    },
    {
      "cell_type": "markdown",
      "source": [
        "\n",
        "\n",
        "This requirement was addressed using ARIMA Timeseries model \n",
        "1. A timeseries of 30 periods and corresponding refund counts for the existing 900 days was arrived.\n",
        "2. ETS Decomposition of 'Refund' records shows high 'Trend' and minimal 'Seasonality'. The trend increases steadily with slight fluctuation over the periods. \n",
        "3. Parameter Analysis for the ARIMA model was carried out using 'auto-arima' function\n",
        "3. SARIMAX function from statsmodel is used to fit the model and the final predictions are arrived\n"
      ],
      "metadata": {
        "id": "BZlHPk4ZycTm"
      },
      "id": "BZlHPk4ZycTm"
    },
    {
      "cell_type": "code",
      "execution_count": null,
      "id": "9d99aca2",
      "metadata": {
        "id": "9d99aca2"
      },
      "outputs": [],
      "source": [
        "pd.set_option('display.max_columns', None)\n",
        "pd.set_option('display.max_rows', None)"
      ]
    },
    {
      "cell_type": "code",
      "execution_count": null,
      "id": "50300342",
      "metadata": {
        "id": "50300342"
      },
      "outputs": [],
      "source": [
        "#Filter refund data\n",
        "dfrf =ds[ds['type'] == 'REFUND']\n",
        "dfrf.shape\n",
        "dfrf.insert(0,'period','')\n",
        "dfrf.reset_index(inplace=True,drop=True)"
      ]
    },
    {
      "cell_type": "code",
      "execution_count": null,
      "id": "2abdfe6e",
      "metadata": {
        "scrolled": true,
        "id": "2abdfe6e",
        "outputId": "1371f0a3-7b39-44fc-ae8a-0d4d6c957aea"
      },
      "outputs": [
        {
          "data": {
            "image/png": "[encoded data removed]",
            "text/plain": [
              "<Figure size 432x288 with 1 Axes>"
            ]
          },
          "metadata": {
            "needs_background": "light"
          },
          "output_type": "display_data"
        }
      ],
      "source": [
        "#Divide the data into periods of 30 days\n",
        "bins=range(0,901,30)\n",
        "for i in range(len(bins)):\n",
        "    for j in range(len(dfrf)):\n",
        "        \n",
        "        if  (dfrf['day'][j] >= bins[i]) and (dfrf['day'][j] < bins[i+1]):\n",
        "            dfrf['period'][j] = i\n",
        "            \n",
        "ts = dfrf.groupby(['period']).size()\n",
        "dfts=pd.DataFrame(ts)\n",
        "plt.plot(dfts)\n",
        "plt.show()"
      ]
    },
    {
      "cell_type": "markdown",
      "id": "3b2354dd",
      "metadata": {
        "id": "3b2354dd"
      },
      "source": [
        "##### ARIMA model\n"
      ]
    },
    {
      "cell_type": "markdown",
      "id": "2ec8c1c5",
      "metadata": {
        "id": "2ec8c1c5"
      },
      "source": [
        "###### ETS Decomposition of the Dataset:\n",
        "\n"
      ]
    },
    {
      "cell_type": "code",
      "execution_count": null,
      "id": "8d3fb953",
      "metadata": {
        "id": "8d3fb953",
        "outputId": "c0858ca3-9233-4ea0-a65e-dd58f11c6440"
      },
      "outputs": [
        {
          "data": {
            "image/png": "[encoded data removed]",
            "text/plain": [
              "<Figure size 432x288 with 4 Axes>"
            ]
          },
          "execution_count": 191,
          "metadata": {},
          "output_type": "execute_result"
        },
        {
          "data": {
            "image/png": "[encoded data removed]",
            "text/plain": [
              "<Figure size 432x288 with 4 Axes>"
            ]
          },
          "metadata": {
            "needs_background": "light"
          },
          "output_type": "display_data"
        }
      ],
      "source": [
        "result = seasonal_decompose(df1['refunds'],  model ='multiplicative',period = 1)\n",
        "result.plot()"
      ]
    },
    {
      "cell_type": "code",
      "execution_count": null,
      "id": "4ad0aa41",
      "metadata": {
        "id": "4ad0aa41",
        "outputId": "5c56d885-45a7-4129-fd30-3535f00b5bf1"
      },
      "outputs": [
        {
          "name": "stdout",
          "output_type": "stream",
          "text": [
            "Collecting pmdarima\n",
            "  Downloading pmdarima-2.0.2-cp39-cp39-win_amd64.whl (572 kB)\n",
            "Requirement already satisfied: statsmodels>=0.13.2 in c:\\users\\lenovo\\anaconda3\\lib\\site-packages (from pmdarima) (0.13.2)\n",
            "Requirement already satisfied: numpy>=1.21.2 in c:\\users\\lenovo\\anaconda3\\lib\\site-packages (from pmdarima) (1.21.4)\n",
            "Requirement already satisfied: urllib3 in c:\\users\\lenovo\\anaconda3\\lib\\site-packages (from pmdarima) (1.26.9)\n",
            "Requirement already satisfied: scikit-learn>=0.22 in c:\\users\\lenovo\\anaconda3\\lib\\site-packages (from pmdarima) (1.0.2)\n",
            "Requirement already satisfied: pandas>=0.19 in c:\\users\\lenovo\\anaconda3\\lib\\site-packages (from pmdarima) (1.2.2)\n",
            "Requirement already satisfied: scipy>=1.3.2 in c:\\users\\lenovo\\anaconda3\\lib\\site-packages (from pmdarima) (1.7.3)\n",
            "Requirement already satisfied: setuptools!=50.0.0,>=38.6.0 in c:\\users\\lenovo\\anaconda3\\lib\\site-packages (from pmdarima) (61.2.0)\n",
            "Requirement already satisfied: joblib>=0.11 in c:\\users\\lenovo\\anaconda3\\lib\\site-packages (from pmdarima) (1.1.0)\n",
            "Requirement already satisfied: Cython!=0.29.18,!=0.29.31,>=0.29 in c:\\users\\lenovo\\anaconda3\\lib\\site-packages (from pmdarima) (0.29.28)\n",
            "Requirement already satisfied: pytz>=2017.3 in c:\\users\\lenovo\\anaconda3\\lib\\site-packages (from pandas>=0.19->pmdarima) (2021.3)\n",
            "Requirement already satisfied: python-dateutil>=2.7.3 in c:\\users\\lenovo\\anaconda3\\lib\\site-packages (from pandas>=0.19->pmdarima) (2.8.2)\n",
            "Requirement already satisfied: six>=1.5 in c:\\users\\lenovo\\anaconda3\\lib\\site-packages (from python-dateutil>=2.7.3->pandas>=0.19->pmdarima) (1.16.0)\n",
            "Requirement already satisfied: threadpoolctl>=2.0.0 in c:\\users\\lenovo\\anaconda3\\lib\\site-packages (from scikit-learn>=0.22->pmdarima) (2.2.0)\n",
            "Requirement already satisfied: patsy>=0.5.2 in c:\\users\\lenovo\\anaconda3\\lib\\site-packages (from statsmodels>=0.13.2->pmdarima) (0.5.2)\n",
            "Requirement already satisfied: packaging>=21.3 in c:\\users\\lenovo\\anaconda3\\lib\\site-packages (from statsmodels>=0.13.2->pmdarima) (21.3)\n",
            "Requirement already satisfied: pyparsing!=3.0.5,>=2.0.2 in c:\\users\\lenovo\\anaconda3\\lib\\site-packages (from packaging>=21.3->statsmodels>=0.13.2->pmdarima) (3.0.4)\n",
            "Installing collected packages: pmdarima\n",
            "Successfully installed pmdarima-2.0.2\n"
          ]
        }
      ],
      "source": [
        "!pip install pmdarima\n",
        "from pmdarima import auto_arima"
      ]
    },
    {
      "cell_type": "markdown",
      "id": "055c9f6c",
      "metadata": {
        "id": "055c9f6c"
      },
      "source": [
        "\n",
        "###### Parameter Analysis for the ARIMA model\n",
        "\n"
      ]
    },
    {
      "cell_type": "code",
      "execution_count": null,
      "id": "2bc830f9",
      "metadata": {
        "id": "2bc830f9"
      },
      "outputs": [],
      "source": [
        "train = dfts.iloc[:len(dfts)-3]\n",
        "test = dfts.iloc[len(dfts)-3:]\n"
      ]
    },
    {
      "cell_type": "code",
      "execution_count": null,
      "id": "c8bc51f0",
      "metadata": {
        "id": "c8bc51f0",
        "outputId": "77457681-eef3-4737-98da-a3e30c828e7f"
      },
      "outputs": [
        {
          "name": "stdout",
          "output_type": "stream",
          "text": [
            "Performing stepwise search to minimize aic\n",
            " ARIMA(1,1,1)(0,1,1)[12]             : AIC=128.758, Time=0.08 sec\n",
            " ARIMA(0,1,0)(0,1,0)[12]             : AIC=123.661, Time=0.02 sec\n",
            " ARIMA(1,1,0)(1,1,0)[12]             : AIC=126.978, Time=0.05 sec\n",
            " ARIMA(0,1,1)(0,1,1)[12]             : AIC=126.792, Time=0.05 sec\n",
            " ARIMA(0,1,0)(1,1,0)[12]             : AIC=125.420, Time=0.05 sec\n",
            " ARIMA(0,1,0)(0,1,1)[12]             : AIC=125.420, Time=0.04 sec\n",
            " ARIMA(0,1,0)(1,1,1)[12]             : AIC=127.420, Time=0.05 sec\n",
            " ARIMA(1,1,0)(0,1,0)[12]             : AIC=125.201, Time=0.02 sec\n",
            " ARIMA(0,1,1)(0,1,0)[12]             : AIC=124.989, Time=0.03 sec\n",
            " ARIMA(1,1,1)(0,1,0)[12]             : AIC=126.928, Time=0.03 sec\n",
            " ARIMA(0,1,0)(0,1,0)[12] intercept   : AIC=124.213, Time=0.02 sec\n",
            "\n",
            "Best model:  ARIMA(0,1,0)(0,1,0)[12]          \n",
            "Total fit time: 0.430 seconds\n"
          ]
        },
        {
          "data": {
            "text/html": [
              "<table class=\"simpletable\">\n",
              "<caption>SARIMAX Results</caption>\n",
              "<tr>\n",
              "  <th>Dep. Variable:</th>                  <td>y</td>               <th>  No. Observations:  </th>   <td>29</td>   \n",
              "</tr>\n",
              "<tr>\n",
              "  <th>Model:</th>           <td>SARIMAX(0, 1, 0)x(0, 1, 0, 12)</td> <th>  Log Likelihood     </th> <td>-60.830</td>\n",
              "</tr>\n",
              "<tr>\n",
              "  <th>Date:</th>                   <td>Wed, 15 Mar 2023</td>        <th>  AIC                </th> <td>123.661</td>\n",
              "</tr>\n",
              "<tr>\n",
              "  <th>Time:</th>                       <td>17:27:55</td>            <th>  BIC                </th> <td>124.433</td>\n",
              "</tr>\n",
              "<tr>\n",
              "  <th>Sample:</th>                         <td>0</td>               <th>  HQIC               </th> <td>123.700</td>\n",
              "</tr>\n",
              "<tr>\n",
              "  <th></th>                              <td> - 29</td>             <th>                     </th>    <td> </td>   \n",
              "</tr>\n",
              "<tr>\n",
              "  <th>Covariance Type:</th>               <td>opg</td>              <th>                     </th>    <td> </td>   \n",
              "</tr>\n",
              "</table>\n",
              "<table class=\"simpletable\">\n",
              "<tr>\n",
              "     <td></td>       <th>coef</th>     <th>std err</th>      <th>z</th>      <th>P>|z|</th>  <th>[0.025</th>    <th>0.975]</th>  \n",
              "</tr>\n",
              "<tr>\n",
              "  <th>sigma2</th> <td>  117.4362</td> <td>   51.643</td> <td>    2.274</td> <td> 0.023</td> <td>   16.218</td> <td>  218.655</td>\n",
              "</tr>\n",
              "</table>\n",
              "<table class=\"simpletable\">\n",
              "<tr>\n",
              "  <th>Ljung-Box (L1) (Q):</th>     <td>0.90</td> <th>  Jarque-Bera (JB):  </th> <td>0.50</td> \n",
              "</tr>\n",
              "<tr>\n",
              "  <th>Prob(Q):</th>                <td>0.34</td> <th>  Prob(JB):          </th> <td>0.78</td> \n",
              "</tr>\n",
              "<tr>\n",
              "  <th>Heteroskedasticity (H):</th> <td>1.34</td> <th>  Skew:              </th> <td>-0.40</td>\n",
              "</tr>\n",
              "<tr>\n",
              "  <th>Prob(H) (two-sided):</th>    <td>0.76</td> <th>  Kurtosis:          </th> <td>2.66</td> \n",
              "</tr>\n",
              "</table><br/><br/>Warnings:<br/>[1] Covariance matrix calculated using the outer product of gradients (complex-step)."
            ],
            "text/plain": [
              "<class 'statsmodels.iolib.summary.Summary'>\n",
              "\"\"\"\n",
              "                                     SARIMAX Results                                      \n",
              "==========================================================================================\n",
              "Dep. Variable:                                  y   No. Observations:                   29\n",
              "Model:             SARIMAX(0, 1, 0)x(0, 1, 0, 12)   Log Likelihood                 -60.830\n",
              "Date:                            Wed, 15 Mar 2023   AIC                            123.661\n",
              "Time:                                    17:27:55   BIC                            124.433\n",
              "Sample:                                         0   HQIC                           123.700\n",
              "                                             - 29                                         \n",
              "Covariance Type:                              opg                                         \n",
              "==============================================================================\n",
              "                 coef    std err          z      P>|z|      [0.025      0.975]\n",
              "------------------------------------------------------------------------------\n",
              "sigma2       117.4362     51.643      2.274      0.023      16.218     218.655\n",
              "===================================================================================\n",
              "Ljung-Box (L1) (Q):                   0.90   Jarque-Bera (JB):                 0.50\n",
              "Prob(Q):                              0.34   Prob(JB):                         0.78\n",
              "Heteroskedasticity (H):               1.34   Skew:                            -0.40\n",
              "Prob(H) (two-sided):                  0.76   Kurtosis:                         2.66\n",
              "===================================================================================\n",
              "\n",
              "Warnings:\n",
              "[1] Covariance matrix calculated using the outer product of gradients (complex-step).\n",
              "\"\"\""
            ]
          },
          "execution_count": 201,
          "metadata": {},
          "output_type": "execute_result"
        }
      ],
      "source": [
        "stepwise_fit = auto_arima(df1, start_p = 1, start_q = 1,\n",
        "                          max_p = 3, max_q = 3, m = 12,\n",
        "                          start_P = 0, seasonal = True,\n",
        "                          d = None, D = 1, trace = True,\n",
        "                          error_action ='ignore',   # we don't want to know if an order does not work\n",
        "                          suppress_warnings = True,  # we don't want convergence warnings\n",
        "                          stepwise = True)           # set to stepwise\n",
        "  \n",
        "# To print the summary\n",
        "stepwise_fit.summary()\n"
      ]
    },
    {
      "cell_type": "markdown",
      "id": "05853987",
      "metadata": {
        "id": "05853987"
      },
      "source": [
        "###### Fit ARIMA Model to the dataset\n",
        "\n"
      ]
    },
    {
      "cell_type": "code",
      "execution_count": null,
      "id": "de95ffd1",
      "metadata": {
        "id": "de95ffd1",
        "outputId": "abc7fae2-239f-4c2c-ebb4-a5983f2a01eb"
      },
      "outputs": [
        {
          "data": {
            "text/html": [
              "<table class=\"simpletable\">\n",
              "<caption>SARIMAX Results</caption>\n",
              "<tr>\n",
              "  <th>Dep. Variable:</th>                   <td>0</td>                <th>  No. Observations:  </th>   <td>29</td>   \n",
              "</tr>\n",
              "<tr>\n",
              "  <th>Model:</th>           <td>SARIMAX(0, 1, 0)x(0, 1, [1], 11)</td> <th>  Log Likelihood     </th> <td>-67.595</td>\n",
              "</tr>\n",
              "<tr>\n",
              "  <th>Date:</th>                    <td>Thu, 16 Mar 2023</td>         <th>  AIC                </th> <td>139.189</td>\n",
              "</tr>\n",
              "<tr>\n",
              "  <th>Time:</th>                        <td>12:18:49</td>             <th>  BIC                </th> <td>140.856</td>\n",
              "</tr>\n",
              "<tr>\n",
              "  <th>Sample:</th>                          <td>0</td>                <th>  HQIC               </th> <td>139.355</td>\n",
              "</tr>\n",
              "<tr>\n",
              "  <th></th>                               <td> - 29</td>              <th>                     </th>    <td> </td>   \n",
              "</tr>\n",
              "<tr>\n",
              "  <th>Covariance Type:</th>                <td>opg</td>               <th>                     </th>    <td> </td>   \n",
              "</tr>\n",
              "</table>\n",
              "<table class=\"simpletable\">\n",
              "<tr>\n",
              "      <td></td>        <th>coef</th>     <th>std err</th>      <th>z</th>      <th>P>|z|</th>  <th>[0.025</th>    <th>0.975]</th>  \n",
              "</tr>\n",
              "<tr>\n",
              "  <th>ma.S.L11</th> <td>   -0.9961</td> <td>  250.778</td> <td>   -0.004</td> <td> 0.997</td> <td> -492.512</td> <td>  490.519</td>\n",
              "</tr>\n",
              "<tr>\n",
              "  <th>sigma2</th>   <td>   92.4528</td> <td> 2.32e+04</td> <td>    0.004</td> <td> 0.997</td> <td>-4.54e+04</td> <td> 4.56e+04</td>\n",
              "</tr>\n",
              "</table>\n",
              "<table class=\"simpletable\">\n",
              "<tr>\n",
              "  <th>Ljung-Box (L1) (Q):</th>     <td>4.40</td> <th>  Jarque-Bera (JB):  </th> <td>1.75</td> \n",
              "</tr>\n",
              "<tr>\n",
              "  <th>Prob(Q):</th>                <td>0.04</td> <th>  Prob(JB):          </th> <td>0.42</td> \n",
              "</tr>\n",
              "<tr>\n",
              "  <th>Heteroskedasticity (H):</th> <td>2.63</td> <th>  Skew:              </th> <td>-0.74</td>\n",
              "</tr>\n",
              "<tr>\n",
              "  <th>Prob(H) (two-sided):</th>    <td>0.26</td> <th>  Kurtosis:          </th> <td>3.52</td> \n",
              "</tr>\n",
              "</table><br/><br/>Warnings:<br/>[1] Covariance matrix calculated using the outer product of gradients (complex-step)."
            ],
            "text/plain": [
              "<class 'statsmodels.iolib.summary.Summary'>\n",
              "\"\"\"\n",
              "                                      SARIMAX Results                                       \n",
              "============================================================================================\n",
              "Dep. Variable:                                    0   No. Observations:                   29\n",
              "Model:             SARIMAX(0, 1, 0)x(0, 1, [1], 11)   Log Likelihood                 -67.595\n",
              "Date:                              Thu, 16 Mar 2023   AIC                            139.189\n",
              "Time:                                      12:18:49   BIC                            140.856\n",
              "Sample:                                           0   HQIC                           139.355\n",
              "                                               - 29                                         \n",
              "Covariance Type:                                opg                                         \n",
              "==============================================================================\n",
              "                 coef    std err          z      P>|z|      [0.025      0.975]\n",
              "------------------------------------------------------------------------------\n",
              "ma.S.L11      -0.9961    250.778     -0.004      0.997    -492.512     490.519\n",
              "sigma2        92.4528   2.32e+04      0.004      0.997   -4.54e+04    4.56e+04\n",
              "===================================================================================\n",
              "Ljung-Box (L1) (Q):                   4.40   Jarque-Bera (JB):                 1.75\n",
              "Prob(Q):                              0.04   Prob(JB):                         0.42\n",
              "Heteroskedasticity (H):               2.63   Skew:                            -0.74\n",
              "Prob(H) (two-sided):                  0.26   Kurtosis:                         3.52\n",
              "===================================================================================\n",
              "\n",
              "Warnings:\n",
              "[1] Covariance matrix calculated using the outer product of gradients (complex-step).\n",
              "\"\"\""
            ]
          },
          "execution_count": 62,
          "metadata": {},
          "output_type": "execute_result"
        }
      ],
      "source": [
        "#order and seasonal order are adjusted to get best fit\n",
        "\n",
        "from statsmodels.tsa.statespace.sarimax import SARIMAX\n",
        "  \n",
        "#sarimodel = SARIMAX(dfts, \n",
        " #               order = (0, 1, 1), \n",
        "  #              seasonal_order =(0, 1, 0, 12))\n",
        "\n",
        "sarimodel = SARIMAX(dfts, \n",
        "                order = (0, 1, 0), \n",
        "                seasonal_order =(0, 1, 1, 11))\n",
        "  \n",
        "result = sarimodel.fit()\n",
        "result.summary()"
      ]
    },
    {
      "cell_type": "code",
      "execution_count": null,
      "id": "c71b41aa",
      "metadata": {
        "id": "c71b41aa",
        "outputId": "30dc7d19-d47d-4c0b-bf50-191480131cc4"
      },
      "outputs": [
        {
          "data": {
            "text/plain": [
              "<AxesSubplot:xlabel='period'>"
            ]
          },
          "execution_count": 63,
          "metadata": {},
          "output_type": "execute_result"
        },
        {
          "data": {
            "image/png": "[encoded data removed]",
            "text/plain": [
              "<Figure size 432x288 with 1 Axes>"
            ]
          },
          "metadata": {
            "needs_background": "light"
          },
          "output_type": "display_data"
        }
      ],
      "source": [
        "start = 0\n",
        "end = len(dfts)\n",
        "  \n",
        "# Predictions \n",
        "predictions = result.predict(start, end,\n",
        "                             typ = 'levels').rename(\"Predictions\")\n",
        "  \n",
        "# plot predictions and actual values\n",
        "dfts.plot(legend = True)\n",
        "predictions.plot(legend = True)\n",
        "#test[0].plot(legend = True)\n"
      ]
    },
    {
      "cell_type": "markdown",
      "id": "f85fdb2e",
      "metadata": {
        "id": "f85fdb2e"
      },
      "source": [
        "###### Forecasting using the Model :\n",
        "\n"
      ]
    },
    {
      "cell_type": "code",
      "execution_count": null,
      "id": "b3cc55aa",
      "metadata": {
        "id": "b3cc55aa",
        "outputId": "2b8a8b97-dd16-4010-e2b3-7b82df99a04e"
      },
      "outputs": [
        {
          "data": {
            "text/plain": [
              "<AxesSubplot:xlabel='period'>"
            ]
          },
          "execution_count": 64,
          "metadata": {},
          "output_type": "execute_result"
        },
        {
          "data": {
            "image/png": "[encoded data removed]",
            "text/plain": [
              "<Figure size 864x360 with 1 Axes>"
            ]
          },
          "metadata": {
            "needs_background": "light"
          },
          "output_type": "display_data"
        }
      ],
      "source": [
        "# Forecast for the next 3 periods\n",
        "forecast = result.predict(start = 0, \n",
        "                          end = len(dfts)+3, \n",
        "                          typ = 'levels').rename('Forecast')\n",
        "  \n",
        "# Plot the forecast values\n",
        "dfts.plot(figsize = (12, 5), legend = True)\n",
        "forecast.plot(legend = True)"
      ]
    },
    {
      "cell_type": "code",
      "execution_count": null,
      "id": "ff56ea01",
      "metadata": {
        "id": "ff56ea01",
        "outputId": "95a8441f-41e0-43d0-8885-47404466462e"
      },
      "outputs": [
        {
          "data": {
            "text/plain": [
              "0       0.000000\n",
              "1       2.000000\n",
              "2       1.000000\n",
              "3       2.000000\n",
              "4      11.000000\n",
              "5       8.000000\n",
              "6      14.000000\n",
              "7      16.000000\n",
              "8      13.000000\n",
              "9      13.000000\n",
              "10     15.000000\n",
              "11     21.000000\n",
              "12     21.000092\n",
              "13     26.999908\n",
              "14     51.999171\n",
              "15     27.000276\n",
              "16     37.999448\n",
              "17     41.999816\n",
              "18     42.000276\n",
              "19     55.000000\n",
              "20     53.999816\n",
              "21     56.999540\n",
              "22     54.999816\n",
              "23     60.499950\n",
              "24     83.999647\n",
              "25     58.000008\n",
              "26     80.500042\n",
              "27     94.999685\n",
              "28    100.499850\n",
              "29    118.499889\n",
              "30    116.999946\n",
              "31    117.999893\n",
              "32    120.999739\n",
              "Name: Forecast, dtype: float64"
            ]
          },
          "execution_count": 65,
          "metadata": {},
          "output_type": "execute_result"
        }
      ],
      "source": [
        "forecast"
      ]
    },
    {
      "cell_type": "code",
      "execution_count": null,
      "id": "844afae3",
      "metadata": {
        "id": "844afae3"
      },
      "outputs": [],
      "source": [
        "predictions = forecast[:-4]"
      ]
    },
    {
      "cell_type": "markdown",
      "id": "28e8f851",
      "metadata": {
        "id": "28e8f851"
      },
      "source": [
        "######  Evaluate the model using MSE and RMSE\n"
      ]
    },
    {
      "cell_type": "code",
      "execution_count": null,
      "id": "a5d5699e",
      "metadata": {
        "id": "a5d5699e",
        "outputId": "be5baf2c-6aed-4432-a83e-977ca9c238fe"
      },
      "outputs": [
        {
          "name": "stdout",
          "output_type": "stream",
          "text": [
            "[49.49886798 47.92594863 48.7084925  47.92594863 41.30750955 43.41857222\n",
            " 39.31218991 38.05531364 39.96334527 39.96334527 38.67593032 35.21510256\n",
            " 35.21505468 32.5020242  32.64722099 32.50188471 30.10902144 30.20046316\n",
            " 30.20050416 33.92639091 33.4755923  34.89616502 33.92630575 36.79448454\n",
            " 53.86992154 35.41381398 51.00417521 63.2940548  68.18350466]\n",
            "95.78258966205406\n"
          ]
        }
      ],
      "source": [
        "# Load specific evaluation tools\n",
        "from sklearn.metrics import mean_squared_error\n",
        "from statsmodels.tools.eval_measures import rmse\n",
        "  \n",
        "# Calculate root mean squared error\n",
        "print(rmse(dfts, predictions))\n",
        "  \n",
        "# Calculate mean squared error\n",
        "print(mean_squared_error(dfts, predictions))"
      ]
    },
    {
      "cell_type": "code",
      "execution_count": null,
      "id": "453ab0a2",
      "metadata": {
        "id": "453ab0a2",
        "outputId": "dd8459e6-d60d-4621-bc9a-28bf0ed04a34"
      },
      "outputs": [
        {
          "data": {
            "text/plain": [
              "<AxesSubplot:xlabel='period'>"
            ]
          },
          "execution_count": 60,
          "metadata": {},
          "output_type": "execute_result"
        },
        {
          "data": {
            "image/png": "[encoded data removed]",
            "text/plain": [
              "<Figure size 432x288 with 1 Axes>"
            ]
          },
          "metadata": {
            "needs_background": "light"
          },
          "output_type": "display_data"
        },
        {
          "data": {
            "image/png": "[encoded data removed]",
            "text/plain": [
              "<Figure size 864x360 with 1 Axes>"
            ]
          },
          "metadata": {
            "needs_background": "light"
          },
          "output_type": "display_data"
        }
      ],
      "source": [
        "#order and seasonal order are adjusted to get best fit\n",
        "\n",
        "from statsmodels.tsa.statespace.sarimax import SARIMAX\n",
        "\n",
        "sarimodel = SARIMAX(dfts, \n",
        "                order = (0, 1, 0), \n",
        "                seasonal_order =(0, 1, 1, 11))\n",
        "  \n",
        "result = sarimodel.fit()\n",
        "result.summary()\n",
        "\n",
        "start = 0\n",
        "end = len(dfts)\n",
        "  \n",
        "# Predictions \n",
        "predictions = result.predict(start, end,\n",
        "                             typ = 'levels').rename(\"Predictions\")\n",
        "  \n",
        "# plot predictions and actual values\n",
        "dfts.plot(legend = True)\n",
        "predictions.plot(legend = True)\n",
        "#test[0].plot(legend = True)\n",
        "\n",
        "\n",
        "# Forecast for the next 3 periods\n",
        "forecast = result.predict(start = 0, \n",
        "                          end = len(dfts)+3, \n",
        "                          typ = 'levels').rename('Forecast')\n",
        "  \n",
        "# Plot the forecast values\n",
        "dfts.plot(figsize = (12, 5), legend = True)\n",
        "forecast.plot(legend = True)"
      ]
    },
    {
      "cell_type": "code",
      "execution_count": null,
      "id": "73832884",
      "metadata": {
        "id": "73832884",
        "outputId": "614b2c82-4655-43a4-f716-49e793ca3197"
      },
      "outputs": [
        {
          "data": {
            "text/plain": [
              "0       0.000000\n",
              "1       2.000000\n",
              "2       1.000000\n",
              "3       2.000000\n",
              "4      11.000000\n",
              "5       8.000000\n",
              "6      14.000000\n",
              "7      16.000000\n",
              "8      13.000000\n",
              "9      13.000000\n",
              "10     15.000000\n",
              "11     21.000000\n",
              "12     21.000092\n",
              "13     26.999908\n",
              "14     51.999171\n",
              "15     27.000276\n",
              "16     37.999448\n",
              "17     41.999816\n",
              "18     42.000276\n",
              "19     55.000000\n",
              "20     53.999816\n",
              "21     56.999540\n",
              "22     54.999816\n",
              "23     60.499950\n",
              "24     83.999647\n",
              "25     58.000008\n",
              "26     80.500042\n",
              "27     94.999685\n",
              "28    100.499850\n",
              "29    118.499889\n",
              "30    116.999946\n",
              "31    117.999893\n",
              "32    120.999739\n",
              "Name: Forecast, dtype: float64"
            ]
          },
          "execution_count": 58,
          "metadata": {},
          "output_type": "execute_result"
        }
      ],
      "source": [
        "forecast"
      ]
    },
    {
      "cell_type": "markdown",
      "source": [
        "#### **5. Estimate the refund probability**\n",
        "\n"
      ],
      "metadata": {
        "id": "1-wvMyLCwLnc"
      },
      "id": "1-wvMyLCwLnc"
    },
    {
      "cell_type": "markdown",
      "source": [
        "Neural network with 2 'relu' layer and one 'sigmoid' layer is used to predict the refund probability.\n",
        "Steps:\n",
        "1. Extract customer id and country from 'customer' column\n",
        "2. Identify the 'Refund' orders by matching customer id and item_value. Insert a 'refund' column and fill this with either 1 or 0 for refund and non-refund orders respectively\n",
        "3. Remove 'type = refund' records from the dataset\n",
        "4. Features are identified as ['item_value', 'tax_rate', 'shipping_cost', 'country', 'currency']\n",
        "5. Now preprocess the dataset. Convert categorical fields 'country' and 'currency' to numerical fields using Label encoder and One hot encoding\n",
        "6. Split the data into train and test set with 20% test data and 80% training data\n",
        "7.Design 3 layer neural network model with 2 'relu' units of 64 and 32 neurons resp. and output 'sigmoid' layer with one neuron\n",
        "8.compile the model using optimizer='adam', loss='binary_crossentropy'\n",
        "9. Evaluate model performance using test set. \n",
        "10. Achieved 83.7% of test accuracy with 10 epochs. \n",
        "11. Altering the hyper parameters like epochs or #units did not improve accuracy.\n",
        "12. Refund probability was predicted using model.predict\n",
        "\n",
        "Approached this using **'Gradient Boosting classifier'** as well which resulted in \n",
        "Accuracy: 0.8469, Precision: 0.7741, Recall: 0.2042, F1 score: 0.3232"
      ],
      "metadata": {
        "id": "QMIqL2qRxyF3"
      },
      "id": "QMIqL2qRxyF3"
    },
    {
      "cell_type": "markdown",
      "id": "913fa794",
      "metadata": {
        "id": "913fa794"
      },
      "source": [
        "##### Neural networks"
      ]
    },
    {
      "cell_type": "code",
      "execution_count": 10,
      "id": "7eba371b",
      "metadata": {
        "id": "7eba371b"
      },
      "outputs": [],
      "source": [
        "from sklearn.model_selection import train_test_split\n",
        "from sklearn.preprocessing import LabelEncoder, OneHotEncoder, StandardScaler\n",
        "from keras.models import Sequential\n",
        "from keras.layers import Dense\n",
        "from sklearn.ensemble import GradientBoostingClassifier\n",
        "from sklearn.metrics import accuracy_score, precision_score, recall_score, f1_score"
      ]
    },
    {
      "cell_type": "code",
      "execution_count": 11,
      "id": "2dbd295f",
      "metadata": {
        "id": "2dbd295f"
      },
      "outputs": [],
      "source": [
        "#prepate daataset\n",
        "#1. extract cust id and country from customer dictionary\n",
        "#2. identify the orders that have been refunded by comparing custid and item_value\n",
        "#3. remove refund records from dataset"
      ]
    },
    {
      "cell_type": "code",
      "execution_count": 12,
      "id": "f84bb9a7",
      "metadata": {
        "id": "f84bb9a7"
      },
      "outputs": [],
      "source": [
        "# Load the dataset\n",
        "d = ds.copy()\n",
        "d.insert(1,'refund','')\n",
        "d.insert(1,'custid','')\n",
        "d.insert(2,'country','')\n",
        "\n",
        "for i in range(len(d)):\n",
        "    #add = d['customer'][i]['address'].split(',')[2].strip()\n",
        "    d['custid'][i] = d['customer'][i]['id']\n",
        "    d['country'][i] = d['customer'][i]['address'].split(',')[2].strip()\n",
        "d.reset_index(drop=True,inplace=True)\n",
        "\n",
        "dref=d[d['type'] == 'REFUND']\n",
        "dref.reset_index(drop=True,inplace=True\n",
        "                )\n",
        "for i in range(len(d)):\n",
        "    temp = dref[( dref['custid'] == d['custid'][i]) & (-(dref['item_value']) == d['item_value'][i])]\n",
        "    \n",
        "    if len(temp) > 0:\n",
        "        d['refund'][i] = 1\n",
        "    else:\n",
        "        d['refund'][i] = 0\n",
        "dfinal = d[d['type'] == 'ORDER']\n"
      ]
    },
    {
      "cell_type": "code",
      "execution_count": 14,
      "id": "0545d331",
      "metadata": {
        "colab": {
          "base_uri": "https://localhost:8080/"
        },
        "id": "0545d331",
        "outputId": "56d3bafa-ad18-453a-80cb-af2e3027956d"
      },
      "outputs": [
        {
          "output_type": "stream",
          "name": "stdout",
          "text": [
            "Epoch 1/10\n",
            "132/132 [==============================] - 2s 7ms/step - loss: 0.4577 - accuracy: 0.8127 - val_loss: 0.4199 - val_accuracy: 0.8373\n",
            "Epoch 2/10\n",
            "132/132 [==============================] - 1s 6ms/step - loss: 0.4163 - accuracy: 0.8331 - val_loss: 0.4120 - val_accuracy: 0.8411\n",
            "Epoch 3/10\n",
            "132/132 [==============================] - 1s 6ms/step - loss: 0.4102 - accuracy: 0.8317 - val_loss: 0.4100 - val_accuracy: 0.8392\n",
            "Epoch 4/10\n",
            "132/132 [==============================] - 1s 5ms/step - loss: 0.4062 - accuracy: 0.8343 - val_loss: 0.4049 - val_accuracy: 0.8392\n",
            "Epoch 5/10\n",
            "132/132 [==============================] - 1s 11ms/step - loss: 0.4039 - accuracy: 0.8362 - val_loss: 0.4053 - val_accuracy: 0.8402\n",
            "Epoch 6/10\n",
            "132/132 [==============================] - 1s 6ms/step - loss: 0.4036 - accuracy: 0.8324 - val_loss: 0.4029 - val_accuracy: 0.8402\n",
            "Epoch 7/10\n",
            "132/132 [==============================] - 1s 9ms/step - loss: 0.4020 - accuracy: 0.8348 - val_loss: 0.4076 - val_accuracy: 0.8402\n",
            "Epoch 8/10\n",
            "132/132 [==============================] - 1s 6ms/step - loss: 0.4008 - accuracy: 0.8367 - val_loss: 0.4034 - val_accuracy: 0.8411\n",
            "Epoch 9/10\n",
            "132/132 [==============================] - 1s 6ms/step - loss: 0.3994 - accuracy: 0.8362 - val_loss: 0.4033 - val_accuracy: 0.8430\n",
            "Epoch 10/10\n",
            "132/132 [==============================] - 1s 7ms/step - loss: 0.3980 - accuracy: 0.8331 - val_loss: 0.4038 - val_accuracy: 0.8382\n",
            "42/42 [==============================] - 0s 5ms/step - loss: 0.3928 - accuracy: 0.8423\n",
            "Test accuracy: 0.8423457741737366\n",
            "1/1 [==============================] - 0s 395ms/step\n",
            "Refund probability: [[0.23623194]]\n"
          ]
        }
      ],
      "source": [
        "import tensorflow as tf\n",
        "\n",
        "# Load the dataset\n",
        "\n",
        "data = dfinal.copy()\n",
        "\n",
        "# Preprocess the data\n",
        "encoder_label = LabelEncoder()\n",
        "encoder_onehot = OneHotEncoder()\n",
        "#data['country'] = encoder_country.fit_transform(data['country']).astype('float32') # Convert to float\n",
        "data['country'] = encoder_onehot.fit_transform(data['country'].values.reshape(-1,1)).toarray().astype('float32') # Convert to float\n",
        "data['currency'] = encoder_label.fit_transform(data['currency']).astype('float32')\n",
        "#data['currency'] = encoder_currency.fit_transform(data['currency'].values.reshape(-1,1)).toarray().astype('float32')\n",
        "scaler = StandardScaler()\n",
        "data[['item_value', 'tax_rate', 'shipping_cost']] = scaler.fit_transform(data[['item_value', 'tax_rate', 'shipping_cost']])\n",
        "\n",
        "# Split the data into training and testing sets\n",
        "X = data[['item_value', 'tax_rate', 'shipping_cost','country','currency']].values.astype('float32')\n",
        "y = data['refund'].values.astype('float32')\n",
        "X_train, X_test, y_train, y_test = train_test_split(X, y, test_size=0.2, random_state=42)\n",
        "\n",
        "\n",
        "# Define the neural network model\n",
        "model = tf.keras.Sequential([\n",
        "    tf.keras.layers.Dense(units=64, activation='relu', input_shape=[X_train.shape[1]]),\n",
        "    tf.keras.layers.Dense(units=32, activation='relu'),\n",
        "    tf.keras.layers.Dense(units=1, activation='sigmoid')\n",
        "])\n",
        "\n",
        "# Compile the model\n",
        "model.compile(optimizer='adam', loss='binary_crossentropy', metrics=['accuracy'])\n",
        "\n",
        "# Train the model\n",
        "history = model.fit(X_train, y_train, epochs=10, validation_split=0.2)\n",
        "\n",
        "# Evaluate the model's performance on the testing set\n",
        "test_loss, test_acc = model.evaluate(X_test, y_test)\n",
        "print(f'Test accuracy: {test_acc}')\n",
        "\n",
        "\n",
        "# Use the trained model to predict the refund probability for new orders\n",
        "new_order = pd.DataFrame({\n",
        "    'country': ['FR'],\n",
        "    'currency': ['BTC'],\n",
        "    'item_value': [0.428],\n",
        "    'tax_rate': [0.19],\n",
        "    'shipping_cost': [0]\n",
        "})\n",
        "\n",
        "#encoder_country.classes_ = np.unique(encoder_country.classes_) \n",
        "#new_order['country'] = encoder_country.transform(new_order['country']).astype('float32')\n",
        "new_order['currency'] = encoder_label.transform(new_order['currency']).astype('float32')\n",
        "new_order['country'] = encoder_onehot.transform(new_order['country'].values.reshape(-1,1)).toarray().astype('float32')\n",
        "\n",
        "#new_order['currency'] = encoder_currency.transform(new_order['currency'].values.reshape(-1,1)).toarray().astype('float32')\n",
        "#new_order = new_order.values.astype('float32')\n",
        "new_order[['item_value', 'tax_rate', 'shipping_cost']] = scaler.transform(new_order[['item_value', 'tax_rate', 'shipping_cost']])\n",
        "\n",
        "refund_probability = model.predict(new_order)\n",
        "print(f'Refund probability: {refund_probability}')\n"
      ]
    },
    {
      "cell_type": "markdown",
      "id": "8cad4485",
      "metadata": {
        "id": "8cad4485"
      },
      "source": [
        "##### Gradient Boosting classifier"
      ]
    },
    {
      "cell_type": "code",
      "execution_count": null,
      "id": "5993e9a5",
      "metadata": {
        "id": "5993e9a5"
      },
      "outputs": [],
      "source": [
        "# Load the dataset\n",
        "d = ds.copy()\n",
        "d.insert(1,'refund','')\n",
        "d.insert(1,'custid','')\n",
        "d.insert(2,'country','')\n",
        "\n",
        "for i in range(len(d)):\n",
        "    #add = d['customer'][i]['address'].split(',')[2].strip()\n",
        "    d['custid'][i] = d['customer'][i]['id']\n",
        "    d['country'][i] = d['customer'][i]['address'].split(',')[2].strip()\n",
        "d.reset_index(drop=True,inplace=True)\n",
        "\n",
        "dref=d[d['type'] == 'REFUND']\n",
        "dref.reset_index(drop=True,inplace=True\n",
        "                )\n",
        "for i in range(len(d)):\n",
        "    temp = dref[( dref['custid'] == d['custid'][i]) & (-(dref['item_value']) == d['item_value'][i])]\n",
        "    \n",
        "    if len(temp) > 0:\n",
        "        d['refund'][i] = 1\n",
        "    else:\n",
        "        d['refund'][i] = 0\n",
        "dfinal = d[d['type'] == 'ORDER']"
      ]
    },
    {
      "cell_type": "code",
      "execution_count": null,
      "id": "c2a3b830",
      "metadata": {
        "id": "c2a3b830",
        "outputId": "806c1925-c7e7-4c2e-c72b-5d8e21e386f8"
      },
      "outputs": [
        {
          "name": "stdout",
          "output_type": "stream",
          "text": [
            "Accuracy: 0.8469154607768469, Precision: 0.7741935483870968, Recall: 0.20425531914893616, F1 score: 0.32323232323232326\n"
          ]
        }
      ],
      "source": [
        "\n",
        "# Load the dataset\n",
        "\n",
        "data = dfinal.copy()\n",
        "\n",
        "# Preprocess the data\n",
        "encoder_label = LabelEncoder()\n",
        "encoder_onehot = OneHotEncoder()\n",
        "#data['country'] = encoder_country.fit_transform(data['country']).astype('float32') # Convert to float\n",
        "data['country'] = encoder_onehot.fit_transform(data['country'].values.reshape(-1,1)).toarray().astype('float32') # Convert to float\n",
        "data['currency'] = encoder_label.fit_transform(data['currency']).astype('float32')\n",
        "#data['currency'] = encoder_currency.fit_transform(data['currency'].values.reshape(-1,1)).toarray().astype('float32')\n",
        "scaler = StandardScaler()\n",
        "data[['item_value', 'tax_rate', 'shipping_cost']] = scaler.fit_transform(data[['item_value', 'tax_rate', 'shipping_cost']])\n",
        "\n",
        "# Split the data into training and testing sets\n",
        "X = data[['item_value', 'tax_rate', 'shipping_cost','country','currency']].values.astype('float32')\n",
        "y = data['refund'].values.astype('float32')\n",
        "X_train, X_test, y_train, y_test = train_test_split(X, y, test_size=0.2, random_state=42)\n",
        "\n",
        "# Train the Gradient Boosting Classifier\n",
        "gb_classifier = GradientBoostingClassifier()\n",
        "gb_classifier.fit(X_train, y_train)\n",
        "\n",
        "# Evaluate the model's performance on the testing set\n",
        "y_pred = gb_classifier.predict(X_test)\n",
        "\n",
        "accuracy = accuracy_score(y_test, y_pred)\n",
        "precision = precision_score(y_test, y_pred)\n",
        "recall = recall_score(y_test, y_pred)\n",
        "f1 = f1_score(y_test, y_pred)\n",
        "print(f'Accuracy: {accuracy}, Precision: {precision}, Recall: {recall}, F1 score: {f1}')\n"
      ]
    },
    {
      "cell_type": "code",
      "execution_count": null,
      "id": "d6171223",
      "metadata": {
        "id": "d6171223",
        "outputId": "9c6a4786-c79c-4c9a-a6cb-7c37603055e2"
      },
      "outputs": [
        {
          "name": "stdout",
          "output_type": "stream",
          "text": [
            "Refund probability: [[0.76264024 0.23735976]]\n"
          ]
        }
      ],
      "source": [
        "\n",
        "# Use the trained model to predict the refund probability for new orders\n",
        "new_order = pd.DataFrame({\n",
        "    'country' : ['DE'],\n",
        "    'currency': ['CHF'],\n",
        "    'item_value': [12170.000],\n",
        "    'tax_rate': [0.16],\n",
        "    'shipping_cost': [15]\n",
        "})\n",
        "\n",
        "new_order['currency'] = encoder_label.transform(new_order['currency']).astype('float32')\n",
        "new_order['country'] = encoder_onehot.transform(new_order['country'].values.reshape(-1,1)).toarray().astype('float32')\n",
        "\n",
        "#new_order['currency'] = encoder_currency.transform(new_order['currency'].values.reshape(-1,1)).toarray().astype('float32')\n",
        "#new_order = new_order.values.astype('float32')\n",
        "new_order[['item_value', 'tax_rate', 'shipping_cost']] = scaler.transform(new_order[['item_value', 'tax_rate', 'shipping_cost']])\n",
        "\n",
        "\n",
        "refund_probability = gb_classifier.predict_proba(new_order)\n",
        "print(f'Refund probability: {refund_probability}')"
      ]
    },
    {
      "cell_type": "markdown",
      "id": "1455196b",
      "metadata": {
        "id": "1455196b"
      },
      "source": [
        "#### 5.1. Estimate the refund probability for an order sent from FR, in currency GBP, with item_value=351, tax_rate=0.2, shipping_cost=30."
      ]
    },
    {
      "cell_type": "code",
      "execution_count": null,
      "id": "e8b55e41",
      "metadata": {
        "id": "e8b55e41"
      },
      "outputs": [],
      "source": [
        "0.2585859"
      ]
    },
    {
      "cell_type": "markdown",
      "id": "c28a18b1",
      "metadata": {
        "id": "c28a18b1"
      },
      "source": [
        "#### 5.2. Estimate the refund probability for an order sent from US, in currency USD, with item_value=45, tax_rate=0.1, shipping_cost=0."
      ]
    },
    {
      "cell_type": "code",
      "execution_count": null,
      "id": "27e229fa",
      "metadata": {
        "id": "27e229fa"
      },
      "outputs": [],
      "source": [
        "0.3369493"
      ]
    },
    {
      "cell_type": "markdown",
      "id": "5cbec9e2",
      "metadata": {
        "id": "5cbec9e2"
      },
      "source": [
        "#### 5.3. Estimate the refund probability for an order sent from US, in currency CHF, with item_value=200, tax_rate=0.15, shipping_cost=0."
      ]
    },
    {
      "cell_type": "code",
      "execution_count": null,
      "id": "7d73c53f",
      "metadata": {
        "id": "7d73c53f"
      },
      "outputs": [],
      "source": [
        "0.3459453"
      ]
    },
    {
      "cell_type": "markdown",
      "id": "e2dae6e1",
      "metadata": {
        "id": "e2dae6e1"
      },
      "source": [
        "#### 5.4. Estimate the refund probability for an order sent from FR, in currency EUR, with item_value=1500, tax_rate=0.2, shipping_cost=0."
      ]
    },
    {
      "cell_type": "code",
      "execution_count": null,
      "id": "a6e8aa46",
      "metadata": {
        "id": "a6e8aa46"
      },
      "outputs": [],
      "source": [
        "0.33967134"
      ]
    },
    {
      "cell_type": "code",
      "execution_count": null,
      "id": "c9949ed7",
      "metadata": {
        "id": "c9949ed7"
      },
      "outputs": [],
      "source": []
    },
    {
      "cell_type": "markdown",
      "id": "a38f3ede",
      "metadata": {
        "id": "a38f3ede"
      },
      "source": [
        "#### 5.5. Estimate the refund probability for an order sent from AU, in currency EUR, with item_value=750, tax_rate=0.15, shipping_cost=0."
      ]
    },
    {
      "cell_type": "code",
      "execution_count": null,
      "id": "b8898a44",
      "metadata": {
        "id": "b8898a44"
      },
      "outputs": [],
      "source": [
        "0.47717217"
      ]
    },
    {
      "cell_type": "markdown",
      "id": "55d8c4a4",
      "metadata": {
        "id": "55d8c4a4"
      },
      "source": [
        "#### 5.6. Estimate the refund probability for an order sent from DE, in currency EUR, with item_value=800, tax_rate=0.1, shipping_cost=20."
      ]
    },
    {
      "cell_type": "code",
      "execution_count": null,
      "id": "e2a673fe",
      "metadata": {
        "id": "e2a673fe"
      },
      "outputs": [],
      "source": [
        "0.37901396"
      ]
    },
    {
      "cell_type": "markdown",
      "id": "1a354697",
      "metadata": {
        "id": "1a354697"
      },
      "source": [
        "#### 5.7. Estimate the refund probability for an order sent from US, in currency CHF, with item_value=2500, tax_rate=0.35, shipping_cost=20."
      ]
    },
    {
      "cell_type": "code",
      "execution_count": null,
      "id": "d0752bf8",
      "metadata": {
        "id": "d0752bf8"
      },
      "outputs": [],
      "source": [
        "0.04669607"
      ]
    }
  ],
  "metadata": {
    "kernelspec": {
      "display_name": "Python 3 (ipykernel)",
      "language": "python",
      "name": "python3"
    },
    "language_info": {
      "codemirror_mode": {
        "name": "ipython",
        "version": 3
      },
      "file_extension": ".py",
      "mimetype": "text/x-python",
      "name": "python",
      "nbconvert_exporter": "python",
      "pygments_lexer": "ipython3",
      "version": "3.9.12"
    },
    "colab": {
      "provenance": [],
      "collapsed_sections": [
        "KxjsARt4gd2j",
        "6ZBup2g8i3wa",
        "Ov6rGQi1yEEj",
        "259f27cb",
        "21b39d91",
        "b3b6c4d6",
        "1494368b",
        "1-wvMyLCwLnc",
        "913fa794",
        "8cad4485"
      ]
    }
  },
  "nbformat": 4,
  "nbformat_minor": 5
}